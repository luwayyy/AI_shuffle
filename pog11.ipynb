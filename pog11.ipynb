{
 "cells": [
  {
   "cell_type": "code",
   "execution_count": 219,
   "metadata": {},
   "outputs": [],
   "source": [
    "import matplotlib.pyplot as plt\n",
    "import matplotlib.patches as patches\n",
    "import numpy as np\n",
    "import random\n",
    "import csv\n",
    "\n"
   ]
  },
  {
   "cell_type": "code",
   "execution_count": 220,
   "metadata": {},
   "outputs": [],
   "source": [
    "class Furniture:\n",
    "    def __init__(self, name, position, size, rotation=0):\n",
    "        self.name = name\n",
    "        # self.position = np.array(position)\n",
    "        self.position = np.array(position, dtype=np.float64)\n",
    "\n",
    "        self.size = np.array(size)\n",
    "        self.rotation = rotation\n",
    "        self.front_vector = self.calculate_front_vector()\n",
    "\n",
    "    def calculate_front_vector(self):\n",
    "        angle_rad = np.radians(self.rotation)\n",
    "        return np.array([np.cos(angle_rad), np.sin(angle_rad)])\n",
    "\n",
    "    def draw(self, ax):\n",
    "        rectangle = patches.Rectangle(self.position, self.size[0], self.size[1], angle=self.rotation, alpha=0.5)\n",
    "        ax.add_patch(rectangle)\n",
    "        # Draw the front vector as an arrow\n",
    "        arrow = patches.Arrow(self.position[0] + self.size[0] / 2, self.position[1] + self.size[1] / 2,\n",
    "                              self.front_vector[0], self.front_vector[1], width=0.5, color='r')\n",
    "        ax.add_patch(arrow)\n",
    "        # Add label\n",
    "        label_pos = self.position + self.size / 2\n",
    "        ax.text(label_pos[0], label_pos[1], self.name, fontsize=12, ha='center', va='center')\n",
    "        \n",
    "    def moveT(self, dist):\n",
    "        direction = self.front_vector / np.linalg.norm(self.front_vector)\n",
    "        \n",
    "        self.position += dist * direction\n",
    "\n",
    "    def moveR(self, angle_degrees):\n",
    "        angle_radians = np.deg2rad(angle_degrees)\n",
    "        rotation_matrix = np.array([\n",
    "            [np.cos(angle_radians), -np.sin(angle_radians)],\n",
    "            [np.sin(angle_radians), np.cos(angle_radians)]\n",
    "        ])\n",
    "        self.front_vector = rotation_matrix @ self.front_vector"
   ]
  },
  {
   "cell_type": "code",
   "execution_count": 221,
   "metadata": {},
   "outputs": [],
   "source": [
    "import copy\n",
    "import math\n",
    "\n",
    "class Room:\n",
    "    def __init__(self, size, furniture_list):\n",
    "        self.size = size\n",
    "        self.furniture_list = furniture_list\n",
    "        \n",
    "        self.d_target = 2\n",
    "        self.weight_distance = 0.5\n",
    "        self.weight_angle = 0.5\n",
    "    \n",
    "    # Add the add_furniture method here\n",
    "    def add_furniture(self, furniture):\n",
    "        self.furniture_list.append(furniture)\n",
    "\n",
    "    def draw(self):\n",
    "        fig, ax = plt.subplots(figsize=(10, 10))\n",
    "        for furniture in self.furniture_list:\n",
    "            furniture.draw(ax)\n",
    "        plt.xlim(0, self.size[0])\n",
    "        plt.ylim(0, self.size[1])\n",
    "        plt.gca().set_aspect('equal', adjustable='box')\n",
    "        plt.show()\n",
    "\n",
    "    def is_furniture_inside_room(self, furniture):\n",
    "    # Check if the furniture object is within the room boundaries\n",
    "        x_in_bounds = 0 <= furniture.position[0] <= self.size[0]\n",
    "        y_in_bounds = 0 <= furniture.position[1] <= self.size[1]\n",
    "        \n",
    "        return x_in_bounds and y_in_bounds\n",
    "\n",
    "\n",
    "    def get_furniture_by_name(self, name):\n",
    "        for furniture in self.furniture_list:\n",
    "            print(furniture.name)  # Add this line to print the name of the furniture\n",
    "            if furniture.name == name:\n",
    "                return furniture\n",
    "\n",
    "\n",
    "    def random_initialize_furniture(self):\n",
    "        for furniture in self.furniture_list:\n",
    "            new_position = np.random.rand(2) * (self.size - furniture.size)\n",
    "            furniture.position = new_position\n",
    "    \n",
    "    def pairwise_distance_cost(self, d_target):\n",
    "        tv = self.get_furniture_by_name('TV')\n",
    "        couch = self.get_furniture_by_name('Couch')\n",
    "        distance = np.linalg.norm(tv.position - couch.position)\n",
    "        return (distance - d_target) ** 2\n",
    "\n",
    "    def pairwise_angle_cost(self):\n",
    "        tv = self.get_furniture_by_name('TV')\n",
    "        couch = self.get_furniture_by_name('Couch')\n",
    "        direction_couch_to_tv = tv.position - couch.position\n",
    "        direction_tv_to_couch = couch.position - tv.position\n",
    "        angle_tv = np.arccos(np.dot(tv.front_vector, direction_tv_to_couch) / (np.linalg.norm(tv.front_vector) * np.linalg.norm(direction_tv_to_couch)))\n",
    "        angle_couch = np.arccos(np.dot(couch.front_vector, direction_couch_to_tv) / (np.linalg.norm(couch.front_vector) * np.linalg.norm(direction_couch_to_tv)))\n",
    "        return angle_tv ** 2 + angle_couch ** 2\n",
    "\n",
    "    def total_cost(self, d_target, weight_distance, weight_angle):\n",
    "        return weight_distance * self.pairwise_distance_cost(d_target) + weight_angle * self.pairwise_angle_cost()\n",
    "\n",
    "    def simulated_annealing(self, num_iterations, initial_temperature):\n",
    "        best_layout = copy.deepcopy(self.furniture_list)\n",
    "        best_cost = float('inf')\n",
    "        \n",
    "        current_temperature = initial_temperature\n",
    "\n",
    "        with open('sa.csv', 'w', newline='') as file:\n",
    "            writer = csv.writer(file)\n",
    "            writer.writerow(['Iteration', 'Total_Cost', 'Distance_Cost', 'Angle_Cost'])\n",
    "\n",
    "            for i in range(num_iterations):\n",
    "                # Calculate the current cost\n",
    "                distance_cost = self.pairwise_distance_cost(self.d_target)\n",
    "                angle_cost = self.pairwise_angle_cost()\n",
    "                total_cost = self.weight_distance * distance_cost + self.weight_angle * angle_cost\n",
    "\n",
    "                # Print optimization information\n",
    "                print(f'Iteration: {i}, Total cost: {total_cost:.2f}, Distance cost: {distance_cost:.2f}, Angle cost: {angle_cost:.2f}')\n",
    "\n",
    "                # Write cost values to the CSV file\n",
    "                writer.writerow([i, total_cost, distance_cost, angle_cost])\n",
    "\n",
    "        for i in range(num_iterations):\n",
    "            # Calculate the current cost\n",
    "            # current_cost = self.total_cost()\n",
    "            current_cost = self.total_cost(self.d_target, self.weight_distance, self.weight_angle)\n",
    "\n",
    "            # If the current cost is lower than the best cost found so far,\n",
    "            # update the best cost and best layout\n",
    "            if current_cost < best_cost:\n",
    "                best_cost = current_cost\n",
    "                best_layout = copy.deepcopy(self.furniture_list)\n",
    "\n",
    "\n",
    "            furniture_index = random.randint(0, len(self.furniture_list) - 1)\n",
    "            furniture = self.furniture_list[furniture_index]\n",
    "\n",
    "            # Choose randomly between translation and rotation\n",
    "            move_distance = random.uniform(-1, 1) * current_temperature\n",
    "            rotate_angle = random.uniform(-np.pi, np.pi) * current_temperature\n",
    "\n",
    "            if random.random() < 0.5:\n",
    "                # Move the furniture object along its front vector by a random distance\n",
    "                furniture.moveT(move_distance)\n",
    "            else:\n",
    "                # Rotate the furniture object by a random angle\n",
    "                furniture.moveR(rotate_angle)\n",
    "            \n",
    "            if self.is_furniture_inside_room(furniture):\n",
    "            # Calculate the new cost after the move\n",
    "                new_cost = self.total_cost(self.d_target, self.weight_distance, self.weight_angle)\n",
    "\n",
    "                # If the new cost is lower than the current cost, accept the move\n",
    "                if new_cost < current_cost:\n",
    "                    current_cost = new_cost\n",
    "                else:\n",
    "                    # Compute the acceptance probability and accept the move with that probability\n",
    "                    acceptance_probability = np.exp((current_cost - new_cost) / current_temperature)\n",
    "                    if random.random() > acceptance_probability:\n",
    "                        # If the move is not accepted, revert the move\n",
    "                        if random.random() < 0.5:\n",
    "                            furniture.moveT(-move_distance)\n",
    "                        else:\n",
    "                            furniture.moveR(-rotate_angle)\n",
    "            else:\n",
    "                # If the furniture object is outside the room, revert the move\n",
    "                if random.random() < 0.5:\n",
    "                    furniture.moveT(-move_distance)\n",
    "                else:\n",
    "                    furniture.moveR(-rotate_angle)\n",
    "\n",
    "            # Update the temperature based on a schedule\n",
    "            if i <= num_iterations * 0.4:\n",
    "                current_temperature = initial_temperature\n",
    "            elif i <= num_iterations * 0.8:\n",
    "                current_temperature = initial_temperature * 0.1\n",
    "            else:\n",
    "                current_temperature = initial_temperature * 0.01\n",
    "\n",
    "        # Set the best layout found during the optimization process\n",
    "        self.furniture_list = best_layout\n"
   ]
  },
  {
   "cell_type": "code",
   "execution_count": 222,
   "metadata": {},
   "outputs": [],
   "source": [
    "couch = Furniture('Couch', [5, 5], [3, 1], rotation=90)\n",
    "table = Furniture('table', [8, 8], [2, 1])\n",
    "chair = Furniture('chair', [11, 6], [1, 1], rotation=45)\n",
    "tv = Furniture('TV', [4, 12], [1, 2], rotation=180)\n",
    "heater = Furniture('heater', [12, 12], [1, 3])\n",
    "\n",
    "furniture_list = [couch, table, chair, tv, heater]\n",
    "room = Room([15, 15], furniture_list)\n"
   ]
  },
  {
   "cell_type": "code",
   "execution_count": 223,
   "metadata": {},
   "outputs": [
    {
     "data": {
      "image/png": "[encoded data removed]",
      "text/plain": [
       "<Figure size 1000x1000 with 1 Axes>"
      ]
     },
     "metadata": {},
     "output_type": "display_data"
    }
   ],
   "source": [
    "room.draw()\n"
   ]
  },
  {
   "cell_type": "code",
   "execution_count": 224,
   "metadata": {},
   "outputs": [
    {
     "name": "stdout",
     "output_type": "stream",
     "text": [
      "Requirement already satisfied: ipywidgets in /Users/muhammadluay/opt/miniconda3/lib/python3.9/site-packages (8.0.4)\n",
      "Requirement already satisfied: jupyterlab-widgets~=3.0 in /Users/muhammadluay/opt/miniconda3/lib/python3.9/site-packages (from ipywidgets) (3.0.5)\n",
      "Requirement already satisfied: ipykernel>=4.5.1 in /Users/muhammadluay/opt/miniconda3/lib/python3.9/site-packages (from ipywidgets) (6.15.2)\n",
      "Requirement already satisfied: traitlets>=4.3.1 in /Users/muhammadluay/opt/miniconda3/lib/python3.9/site-packages (from ipywidgets) (5.1.1)\n",
      "Requirement already satisfied: widgetsnbextension~=4.0 in /Users/muhammadluay/opt/miniconda3/lib/python3.9/site-packages (from ipywidgets) (4.0.5)\n",
      "Requirement already satisfied: ipython>=6.1.0 in /Users/muhammadluay/opt/miniconda3/lib/python3.9/site-packages (from ipywidgets) (8.6.0)\n",
      "Requirement already satisfied: jupyter-client>=6.1.12 in /Users/muhammadluay/opt/miniconda3/lib/python3.9/site-packages (from ipykernel>=4.5.1->ipywidgets) (7.4.7)\n",
      "Requirement already satisfied: matplotlib-inline>=0.1 in /Users/muhammadluay/opt/miniconda3/lib/python3.9/site-packages (from ipykernel>=4.5.1->ipywidgets) (0.1.6)\n",
      "Requirement already satisfied: packaging in /Users/muhammadluay/opt/miniconda3/lib/python3.9/site-packages (from ipykernel>=4.5.1->ipywidgets) (21.3)\n",
      "Requirement already satisfied: appnope in /Users/muhammadluay/opt/miniconda3/lib/python3.9/site-packages (from ipykernel>=4.5.1->ipywidgets) (0.1.2)\n",
      "Requirement already satisfied: pyzmq>=17 in /Users/muhammadluay/opt/miniconda3/lib/python3.9/site-packages (from ipykernel>=4.5.1->ipywidgets) (23.2.0)\n",
      "Requirement already satisfied: nest-asyncio in /Users/muhammadluay/opt/miniconda3/lib/python3.9/site-packages (from ipykernel>=4.5.1->ipywidgets) (1.5.5)\n",
      "Requirement already satisfied: tornado>=6.1 in /Users/muhammadluay/opt/miniconda3/lib/python3.9/site-packages (from ipykernel>=4.5.1->ipywidgets) (6.2)\n",
      "Requirement already satisfied: debugpy>=1.0 in /Users/muhammadluay/opt/miniconda3/lib/python3.9/site-packages (from ipykernel>=4.5.1->ipywidgets) (1.5.1)\n",
      "Requirement already satisfied: psutil in /Users/muhammadluay/opt/miniconda3/lib/python3.9/site-packages (from ipykernel>=4.5.1->ipywidgets) (5.9.0)\n",
      "Requirement already satisfied: pickleshare in /Users/muhammadluay/opt/miniconda3/lib/python3.9/site-packages (from ipython>=6.1.0->ipywidgets) (0.7.5)\n",
      "Requirement already satisfied: pexpect>4.3 in /Users/muhammadluay/opt/miniconda3/lib/python3.9/site-packages (from ipython>=6.1.0->ipywidgets) (4.8.0)\n",
      "Requirement already satisfied: backcall in /Users/muhammadluay/opt/miniconda3/lib/python3.9/site-packages (from ipython>=6.1.0->ipywidgets) (0.2.0)\n",
      "Requirement already satisfied: pygments>=2.4.0 in /Users/muhammadluay/opt/miniconda3/lib/python3.9/site-packages (from ipython>=6.1.0->ipywidgets) (2.11.2)\n",
      "Requirement already satisfied: decorator in /Users/muhammadluay/opt/miniconda3/lib/python3.9/site-packages (from ipython>=6.1.0->ipywidgets) (5.1.1)\n",
      "Requirement already satisfied: stack-data in /Users/muhammadluay/opt/miniconda3/lib/python3.9/site-packages (from ipython>=6.1.0->ipywidgets) (0.2.0)\n",
      "Requirement already satisfied: jedi>=0.16 in /Users/muhammadluay/opt/miniconda3/lib/python3.9/site-packages (from ipython>=6.1.0->ipywidgets) (0.18.1)\n",
      "Requirement already satisfied: prompt-toolkit<3.1.0,>3.0.1 in /Users/muhammadluay/opt/miniconda3/lib/python3.9/site-packages (from ipython>=6.1.0->ipywidgets) (3.0.36)\n",
      "Requirement already satisfied: parso<0.9.0,>=0.8.0 in /Users/muhammadluay/opt/miniconda3/lib/python3.9/site-packages (from jedi>=0.16->ipython>=6.1.0->ipywidgets) (0.8.3)\n",
      "Requirement already satisfied: jupyter-core>=4.9.2 in /Users/muhammadluay/opt/miniconda3/lib/python3.9/site-packages (from jupyter-client>=6.1.12->ipykernel>=4.5.1->ipywidgets) (4.11.2)\n",
      "Requirement already satisfied: entrypoints in /Users/muhammadluay/opt/miniconda3/lib/python3.9/site-packages (from jupyter-client>=6.1.12->ipykernel>=4.5.1->ipywidgets) (0.4)\n",
      "Requirement already satisfied: python-dateutil>=2.8.2 in /Users/muhammadluay/opt/miniconda3/lib/python3.9/site-packages (from jupyter-client>=6.1.12->ipykernel>=4.5.1->ipywidgets) (2.8.2)\n",
      "Requirement already satisfied: ptyprocess>=0.5 in /Users/muhammadluay/opt/miniconda3/lib/python3.9/site-packages (from pexpect>4.3->ipython>=6.1.0->ipywidgets) (0.7.0)\n",
      "Requirement already satisfied: wcwidth in /Users/muhammadluay/opt/miniconda3/lib/python3.9/site-packages (from prompt-toolkit<3.1.0,>3.0.1->ipython>=6.1.0->ipywidgets) (0.2.5)\n",
      "Requirement already satisfied: pyparsing!=3.0.5,>=2.0.2 in /Users/muhammadluay/opt/miniconda3/lib/python3.9/site-packages (from packaging->ipykernel>=4.5.1->ipywidgets) (3.0.9)\n",
      "Requirement already satisfied: executing in /Users/muhammadluay/opt/miniconda3/lib/python3.9/site-packages (from stack-data->ipython>=6.1.0->ipywidgets) (0.8.3)\n",
      "Requirement already satisfied: pure-eval in /Users/muhammadluay/opt/miniconda3/lib/python3.9/site-packages (from stack-data->ipython>=6.1.0->ipywidgets) (0.2.2)\n",
      "Requirement already satisfied: asttokens in /Users/muhammadluay/opt/miniconda3/lib/python3.9/site-packages (from stack-data->ipython>=6.1.0->ipywidgets) (2.0.5)\n",
      "Requirement already satisfied: six>=1.5 in /Users/muhammadluay/opt/miniconda3/lib/python3.9/site-packages (from python-dateutil>=2.8.2->jupyter-client>=6.1.12->ipykernel>=4.5.1->ipywidgets) (1.16.0)\n"
     ]
    }
   ],
   "source": [
    "!pip install ipywidgets\n"
   ]
  },
  {
   "cell_type": "code",
   "execution_count": 225,
   "metadata": {},
   "outputs": [],
   "source": [
    "import numpy as np\n",
    "import matplotlib.pyplot as plt\n",
    "import ipywidgets as widgets\n",
    "from IPython.display import display\n"
   ]
  },
  {
   "cell_type": "code",
   "execution_count": 226,
   "metadata": {},
   "outputs": [
    {
     "data": {
      "application/vnd.jupyter.widget-view+json": {
       "model_id": "bba50d88ef18402983fa922cc0a4d47a",
       "version_major": 2,
       "version_minor": 0
      },
      "text/plain": [
       "FloatSlider(value=2.0, description='Distance:', max=5.0, min=1.0)"
      ]
     },
     "metadata": {},
     "output_type": "display_data"
    },
    {
     "data": {
      "application/vnd.jupyter.widget-view+json": {
       "model_id": "07d0c29203e44bc1b1c663853c53c268",
       "version_major": 2,
       "version_minor": 0
      },
      "text/plain": [
       "FloatSlider(value=0.0, description='Angle TV:', max=180.0, min=-180.0, step=1.0)"
      ]
     },
     "metadata": {},
     "output_type": "display_data"
    },
    {
     "data": {
      "application/vnd.jupyter.widget-view+json": {
       "model_id": "a95985a6e76f4e6ba9f6532b02a44418",
       "version_major": 2,
       "version_minor": 0
      },
      "text/plain": [
       "FloatSlider(value=0.0, description='Angle Couch:', max=180.0, min=-180.0, step=1.0)"
      ]
     },
     "metadata": {},
     "output_type": "display_data"
    },
    {
     "data": {
      "application/vnd.jupyter.widget-view+json": {
       "model_id": "0fd5e72726ff4217bb34268dedb98b48",
       "version_major": 2,
       "version_minor": 0
      },
      "text/plain": [
       "FloatSlider(value=0.5, description='Weight Distance:', max=1.0)"
      ]
     },
     "metadata": {},
     "output_type": "display_data"
    },
    {
     "data": {
      "application/vnd.jupyter.widget-view+json": {
       "model_id": "badb89d244f24b2e808e0d929fe2de2d",
       "version_major": 2,
       "version_minor": 0
      },
      "text/plain": [
       "FloatSlider(value=0.5, description='Weight Angle:', max=1.0)"
      ]
     },
     "metadata": {},
     "output_type": "display_data"
    },
    {
     "data": {
      "application/vnd.jupyter.widget-view+json": {
       "model_id": "19ff2cd1a69a4f68bf1b93bda3e201c2",
       "version_major": 2,
       "version_minor": 0
      },
      "text/plain": [
       "FloatSlider(value=1000.0, description='Temperature:', max=1000.0, step=10.0)"
      ]
     },
     "metadata": {},
     "output_type": "display_data"
    },
    {
     "data": {
      "application/vnd.jupyter.widget-view+json": {
       "model_id": "ab7cabc0040e4a2c8f34deb6161afcbb",
       "version_major": 2,
       "version_minor": 0
      },
      "text/plain": [
       "Button(description='Random Initialization', style=ButtonStyle())"
      ]
     },
     "metadata": {},
     "output_type": "display_data"
    }
   ],
   "source": [
    "# Pairwise distance widget\n",
    "pairwise_distance = widgets.FloatSlider(min=1, max=5, step=0.1, value=2, description='Distance:')\n",
    "\n",
    "# Target angles widget\n",
    "target_angle_tv = widgets.FloatSlider(min=-180, max=180, step=1, value=0, description='Angle TV:')\n",
    "target_angle_couch = widgets.FloatSlider(min=-180, max=180, step=1, value=0, description='Angle Couch:')\n",
    "\n",
    "# Weights widget\n",
    "weight_distance = widgets.FloatSlider(min=0, max=1, step=0.1, value=0.5, description='Weight Distance:')\n",
    "weight_angle = widgets.FloatSlider(min=0, max=1, step=0.1, value=0.5, description='Weight Angle:')\n",
    "\n",
    "# Temperature widget\n",
    "temperature = widgets.FloatSlider(min=0, max=1000, step=10, value=1000, description='Temperature:')\n",
    "\n",
    "# Button for random initialization\n",
    "random_init_button = widgets.Button(description='Random Initialization')\n",
    "\n",
    "# Function to handle random initialization button\n",
    "def on_random_init_button_click(_):\n",
    "    room.random_initialize_furniture()\n",
    "    room.draw()\n",
    "\n",
    "random_init_button.on_click(on_random_init_button_click)\n",
    "\n",
    "# Display control widgets\n",
    "display(pairwise_distance)\n",
    "display(target_angle_tv)\n",
    "display(target_angle_couch)\n",
    "display(weight_distance)\n",
    "display(weight_angle)\n",
    "display(temperature)\n",
    "display(random_init_button)\n"
   ]
  },
  {
   "cell_type": "code",
   "execution_count": 227,
   "metadata": {},
   "outputs": [],
   "source": [
    "def optimize(button):\n",
    "    # Define initial_temperature, num_iterations, and other necessary parameters\n",
    "    initial_temperature = 1000\n",
    "    num_iterations = 1000\n",
    "    \n",
    "    # Perform simulated annealing\n",
    "    room.simulated_annealing(num_iterations, initial_temperature)\n",
    "    \n",
    "    # Update the visualization of the room after optimization\n",
    "    room.draw()\n",
    "\n"
   ]
  },
  {
   "cell_type": "code",
   "execution_count": 228,
   "metadata": {},
   "outputs": [],
   "source": [
    "def handle_visualize_checkbox(change):\n",
    "    if change['type'] == 'change' and change['name'] == 'value':\n",
    "        room.visualize_intermediate_results = change['new']\n"
   ]
  },
  {
   "cell_type": "code",
   "execution_count": 229,
   "metadata": {},
   "outputs": [],
   "source": [
    "import ipywidgets as widgets\n",
    "\n",
    "optimize_button = widgets.Button(description='Optimize')\n",
    "optimize_button.on_click(optimize)\n"
   ]
  },
  {
   "cell_type": "code",
   "execution_count": 230,
   "metadata": {},
   "outputs": [],
   "source": [
    "visualize_checkbox = widgets.Checkbox(value=False, description='Visualize Intermediate Results')\n",
    "visualize_checkbox.observe(handle_visualize_checkbox)\n"
   ]
  },
  {
   "cell_type": "code",
   "execution_count": 231,
   "metadata": {},
   "outputs": [
    {
     "data": {
      "application/vnd.jupyter.widget-view+json": {
       "model_id": "bddd8a6421a242a3b7b1550442f34043",
       "version_major": 2,
       "version_minor": 0
      },
      "text/plain": [
       "Checkbox(value=False, description='Visualize Intermediate Results')"
      ]
     },
     "metadata": {},
     "output_type": "display_data"
    },
    {
     "data": {
      "application/vnd.jupyter.widget-view+json": {
       "model_id": "7a54b251e55c4223967aab672c702f47",
       "version_major": 2,
       "version_minor": 0
      },
      "text/plain": [
       "Button(description='Optimize', style=ButtonStyle())"
      ]
     },
     "metadata": {},
     "output_type": "display_data"
    }
   ],
   "source": [
    "display(visualize_checkbox)\n",
    "display(optimize_button)\n"
   ]
  },
  {
   "cell_type": "code",
   "execution_count": 232,
   "metadata": {},
   "outputs": [],
   "source": [
    "from IPython.display import display\n"
   ]
  }
 ],
 "metadata": {
  "kernelspec": {
   "display_name": "Python 3.9 (tensorflow)",
   "language": "python",
   "name": "tensorflow"
  },
  "language_info": {
   "codemirror_mode": {
    "name": "ipython",
    "version": 3
   },
   "file_extension": ".py",
   "mimetype": "text/x-python",
   "name": "python",
   "nbconvert_exporter": "python",
   "pygments_lexer": "ipython3",
   "version": "3.9.15"
  },
  "orig_nbformat": 4
 },
 "nbformat": 4,
 "nbformat_minor": 2
}
